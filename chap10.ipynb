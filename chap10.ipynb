{
 "cells": [
  {
   "cell_type": "code",
   "execution_count": 1,
   "metadata": {},
   "outputs": [
    {
     "data": {
      "text/latex": [
       "Ex. Show that the sequence $\\displaystyle\\left\\{\\frac{n+1}{n^2+3n+1}\\right\\}$ converges to 0."
      ],
      "text/plain": [
       "<IPython.core.display.Latex object>"
      ]
     },
     "metadata": {},
     "output_type": "display_data"
    },
    {
     "data": {
      "text/latex": [
       "Sol. We have"
      ],
      "text/plain": [
       "<IPython.core.display.Latex object>"
      ]
     },
     "metadata": {},
     "output_type": "display_data"
    },
    {
     "data": {
      "text/latex": [
       "$\\displaystyle \\lim_{n\\rightarrow\\infty}\\frac{n+1}{n^2+3n+1}=$"
      ],
      "text/plain": [
       "<IPython.core.display.Latex object>"
      ]
     },
     "metadata": {},
     "output_type": "display_data"
    },
    {
     "data": {
      "image/png": "[encoded data removed]",
      "text/latex": [
       "$\\displaystyle 0$"
      ],
      "text/plain": [
       "0"
      ]
     },
     "metadata": {},
     "output_type": "display_data"
    }
   ],
   "source": [
    "import numpy as np\n",
    "import sympy as sy\n",
    "from IPython.display import Latex, display\n",
    "sy.init_printing() \n",
    "display(Latex('Ex. Show that the sequence $\\displaystyle\\\\left\\{\\\\frac{n+1}{n^2+3n+1}\\\\right\\}$ converges to 0.'))\n",
    "display(Latex('Sol. We have'))\n",
    "n = sy.symbols('n')\n",
    "an=(n+1)/(n**2+3*n+1)\n",
    "display(Latex('$\\displaystyle \\\\lim_{n\\\\rightarrow\\\\infty}\\\\frac{n+1}{n^2+3n+1}=$'))\n",
    "display(sy.limit(an,n,np.inf))"
   ]
  },
  {
   "cell_type": "code",
   "execution_count": 2,
   "metadata": {},
   "outputs": [
    {
     "data": {
      "text/latex": [
       "Ex. Show that the sequence $\\displaystyle\\left\\{\\left(1+\\frac{x}{n}\\right)^n\\right\\}$ converges to $e^x$ for any $x$"
      ],
      "text/plain": [
       "<IPython.core.display.Latex object>"
      ]
     },
     "metadata": {},
     "output_type": "display_data"
    },
    {
     "data": {
      "text/latex": [
       "Sol. We have"
      ],
      "text/plain": [
       "<IPython.core.display.Latex object>"
      ]
     },
     "metadata": {},
     "output_type": "display_data"
    },
    {
     "data": {
      "text/latex": [
       "$\\displaystyle \\lim_{n\\rightarrow\\infty}\\left(1+\\frac{x}{n}\\right)^n=$"
      ],
      "text/plain": [
       "<IPython.core.display.Latex object>"
      ]
     },
     "metadata": {},
     "output_type": "display_data"
    },
    {
     "data": {
      "image/png": "[encoded data removed]",
      "text/latex": [
       "$\\displaystyle e^{x}$"
      ],
      "text/plain": [
       " x\n",
       "ℯ "
      ]
     },
     "metadata": {},
     "output_type": "display_data"
    }
   ],
   "source": [
    "display(Latex('Ex. Show that the sequence $\\displaystyle\\\\left\\{\\\\left(1+\\\\frac{x}{n}\\\\right)^n\\\\right\\}$ converges \\\n",
    "to $e^x$ for any $x$'))\n",
    "display(Latex('Sol. We have'))\n",
    "n,x = sy.symbols('n, x')\n",
    "an=(1+x/n)**n\n",
    "display(Latex('$\\displaystyle \\\\lim_{n\\\\rightarrow\\\\infty}\\\\left(1+\\\\frac{x}{n}\\\\right)^n=$'))\n",
    "display(sy.limit(an,n,np.inf))"
   ]
  },
  {
   "cell_type": "code",
   "execution_count": 3,
   "metadata": {},
   "outputs": [
    {
     "data": {
      "text/latex": [
       "Ex. Use test of divergence to test the series $\\displaystyle\\sum \\frac{n^2+n+5}{n^2+1}$"
      ],
      "text/plain": [
       "<IPython.core.display.Latex object>"
      ]
     },
     "metadata": {},
     "output_type": "display_data"
    },
    {
     "data": {
      "text/latex": [
       "Sol. Here limit of $a_n$ as $n\\rightarrow\\infty$, is"
      ],
      "text/plain": [
       "<IPython.core.display.Latex object>"
      ]
     },
     "metadata": {},
     "output_type": "display_data"
    },
    {
     "data": {
      "image/png": "[encoded data removed]",
      "text/latex": [
       "$\\displaystyle 1$"
      ],
      "text/plain": [
       "1"
      ]
     },
     "metadata": {},
     "output_type": "display_data"
    },
    {
     "data": {
      "text/latex": [
       "which is non-zero. So the given series is divergent."
      ],
      "text/plain": [
       "<IPython.core.display.Latex object>"
      ]
     },
     "metadata": {},
     "output_type": "display_data"
    }
   ],
   "source": [
    "display(Latex('Ex. Use test of divergence to test the series $\\displaystyle\\sum \\\\frac{n^2+n+5}{n^2+1}$'))\n",
    "display(Latex('Sol. Here limit of $a_n$ as $n\\\\rightarrow\\\\infty$, is'))\n",
    "n = sy.symbols('n')\n",
    "an= (n**2+n+5)/(n**2+1)\n",
    "display(sy.limit(an,n,np.inf))\n",
    "if sy.limit(an,n,np.inf)!=0:\n",
    "    display(Latex('which is non-zero. So the given series is divergent.')) \n",
    "else:\n",
    "    display(Latex('which is zero. So the test of divergence is not applicable.'))    "
   ]
  },
  {
   "cell_type": "code",
   "execution_count": 4,
   "metadata": {},
   "outputs": [
    {
     "data": {
      "text/latex": [
       "Ex. Test the behavior of the series $\\displaystyle\\sum\\frac{n}{n+1}$ by finding $S_n$."
      ],
      "text/plain": [
       "<IPython.core.display.Latex object>"
      ]
     },
     "metadata": {},
     "output_type": "display_data"
    },
    {
     "data": {
      "text/latex": [
       "Sol. We have"
      ],
      "text/plain": [
       "<IPython.core.display.Latex object>"
      ]
     },
     "metadata": {},
     "output_type": "display_data"
    },
    {
     "data": {
      "text/latex": [
       "$S_n=$"
      ],
      "text/plain": [
       "<IPython.core.display.Latex object>"
      ]
     },
     "metadata": {},
     "output_type": "display_data"
    },
    {
     "data": {
      "image/png": "[encoded data removed]",
      "text/latex": [
       "$\\displaystyle \\frac{n}{n + 1}$"
      ],
      "text/plain": [
       "  n  \n",
       "─────\n",
       "n + 1"
      ]
     },
     "metadata": {},
     "output_type": "display_data"
    },
    {
     "data": {
      "text/latex": [
       "Limit of $S_n$ as $\\rightarrow\\infty$ reads as"
      ],
      "text/plain": [
       "<IPython.core.display.Latex object>"
      ]
     },
     "metadata": {},
     "output_type": "display_data"
    },
    {
     "data": {
      "image/png": "[encoded data removed]",
      "text/latex": [
       "$\\displaystyle 1$"
      ],
      "text/plain": [
       "1"
      ]
     },
     "metadata": {},
     "output_type": "display_data"
    },
    {
     "data": {
      "text/latex": [
       "So the given series converges to 1."
      ],
      "text/plain": [
       "<IPython.core.display.Latex object>"
      ]
     },
     "metadata": {},
     "output_type": "display_data"
    }
   ],
   "source": [
    "display(Latex('Ex. Test the behavior of the series $\\displaystyle\\sum\\\\frac{n}{n+1}$ by finding $S_n$.'))\n",
    "display(Latex('Sol. We have'))\n",
    "n,x = sy.symbols('n, x')\n",
    "an=1/(x*(x+1))\n",
    "display(Latex('$S_n=$'))\n",
    "display(sy.simplify(sy.Sum(an,(x,1,n)).doit()))\n",
    "Sn=sy.simplify(sy.Sum(an,(x,1,n)).doit())\n",
    "display(Latex('Limit of $S_n$ as $\\\\rightarrow\\\\infty$ reads as'))\n",
    "display(sy.limit(Sn,n,np.inf))\n",
    "display(Latex('So the given series converges to 1.'))"
   ]
  },
  {
   "cell_type": "code",
   "execution_count": 5,
   "metadata": {},
   "outputs": [
    {
     "data": {
      "text/latex": [
       "Ex. Find $S_n$ of the geometric series $\\displaystyle\\sum ar^{n-1}$"
      ],
      "text/plain": [
       "<IPython.core.display.Latex object>"
      ]
     },
     "metadata": {},
     "output_type": "display_data"
    },
    {
     "data": {
      "text/latex": [
       "Sol. Here $S_n=$"
      ],
      "text/plain": [
       "<IPython.core.display.Latex object>"
      ]
     },
     "metadata": {},
     "output_type": "display_data"
    },
    {
     "data": {
      "image/png": "[encoded data removed]",
      "text/latex": [
       "$\\displaystyle \\begin{cases} a n & \\text{for}\\: r = 1 \\\\\\frac{a \\left(r^{n} - 1\\right)}{r - 1} & \\text{otherwise} \\end{cases}$"
      ],
      "text/plain": [
       "⎧   a⋅n      for r = 1\n",
       "⎪                     \n",
       "⎪  ⎛ n    ⎞           \n",
       "⎨a⋅⎝r  - 1⎠           \n",
       "⎪──────────  otherwise\n",
       "⎪  r - 1              \n",
       "⎩                     "
      ]
     },
     "metadata": {},
     "output_type": "display_data"
    }
   ],
   "source": [
    "display(Latex('Ex. Find $S_n$ of the geometric series $\\displaystyle\\sum ar^{n-1}$'))\n",
    "display(Latex('Sol. Here $S_n=$'))\n",
    "a,n,x,r = sy.symbols('a,n, x,r')\n",
    "an= a*r**(x-1)\n",
    "display(sy.simplify(sy.Sum(an,(x,1,n)).doit()))"
   ]
  },
  {
   "cell_type": "code",
   "execution_count": 6,
   "metadata": {},
   "outputs": [
    {
     "data": {
      "text/latex": [
       "Ex. Use integral test to test the series $\\displaystyle\\sum \\frac{1}{n^2}$"
      ],
      "text/plain": [
       "<IPython.core.display.Latex object>"
      ]
     },
     "metadata": {},
     "output_type": "display_data"
    },
    {
     "data": {
      "text/latex": [
       "Sol. Here limit of $I_n$ as $n\\rightarrow\\infty$, is"
      ],
      "text/plain": [
       "<IPython.core.display.Latex object>"
      ]
     },
     "metadata": {},
     "output_type": "display_data"
    },
    {
     "data": {
      "image/png": "[encoded data removed]",
      "text/latex": [
       "$\\displaystyle \\frac{1}{2}$"
      ],
      "text/plain": [
       "1/2"
      ]
     },
     "metadata": {},
     "output_type": "display_data"
    },
    {
     "data": {
      "text/latex": [
       "which is finite. So by integral test, the given series is convergent"
      ],
      "text/plain": [
       "<IPython.core.display.Latex object>"
      ]
     },
     "metadata": {},
     "output_type": "display_data"
    }
   ],
   "source": [
    "display(Latex('Ex. Use integral test to test the series $\\displaystyle\\sum \\\\frac{1}{n^2}$'))\n",
    "display(Latex('Sol. Here limit of $I_n$ as $n\\\\rightarrow\\\\infty$, is'))\n",
    "n,x = sy.symbols('n, x')\n",
    "an= 1/x**2\n",
    "display(sy.simplify(sy.integrate(an,(x,2,np.inf))))\n",
    "if sy.integrate(an,(x,2,np.inf))==np.inf:\n",
    "    display(Latex('which is not finite. So by integral test, the given series is divergent')) \n",
    "else:\n",
    "    display(Latex('which is finite. So by integral test, the given series is convergent')) "
   ]
  },
  {
   "cell_type": "code",
   "execution_count": 7,
   "metadata": {},
   "outputs": [
    {
     "data": {
      "text/latex": [
       "Ex. Use integral test to test the series $\\displaystyle\\sum \\frac{1}{n\\ln n}$"
      ],
      "text/plain": [
       "<IPython.core.display.Latex object>"
      ]
     },
     "metadata": {},
     "output_type": "display_data"
    },
    {
     "data": {
      "text/latex": [
       "Sol. Here limit of $I_n$ as $n\\rightarrow\\infty$, is"
      ],
      "text/plain": [
       "<IPython.core.display.Latex object>"
      ]
     },
     "metadata": {},
     "output_type": "display_data"
    },
    {
     "data": {
      "image/png": "[encoded data removed]",
      "text/latex": [
       "$\\displaystyle \\infty$"
      ],
      "text/plain": [
       "∞"
      ]
     },
     "metadata": {},
     "output_type": "display_data"
    },
    {
     "data": {
      "text/latex": [
       "which is not finite. So by integral test, the given series is divergent"
      ],
      "text/plain": [
       "<IPython.core.display.Latex object>"
      ]
     },
     "metadata": {},
     "output_type": "display_data"
    }
   ],
   "source": [
    "display(Latex('Ex. Use integral test to test the series $\\displaystyle\\sum \\\\frac{1}{n\\ln n}$'))\n",
    "display(Latex('Sol. Here limit of $I_n$ as $n\\\\rightarrow\\\\infty$, is'))\n",
    "n,x = sy.symbols('n, x')\n",
    "an= 1/(x*sy.log(x))\n",
    "display(sy.simplify(sy.integrate(an,(x,2,np.inf))))\n",
    "if sy.integrate(an,(x,2,np.inf))==np.inf:\n",
    "    display(Latex('which is not finite. So by integral test, the given series is divergent')) \n",
    "else:\n",
    "    display(Latex('which is finite. So by integral test, the given series is convergent')) "
   ]
  },
  {
   "cell_type": "code",
   "execution_count": 8,
   "metadata": {},
   "outputs": [
    {
     "data": {
      "text/latex": [
       "Ex. Use ratio test to test the series $\\displaystyle\\sum \\frac{n!}{n^n}$"
      ],
      "text/plain": [
       "<IPython.core.display.Latex object>"
      ]
     },
     "metadata": {},
     "output_type": "display_data"
    },
    {
     "data": {
      "text/latex": [
       "Sol. Here limit of $a_n/a_{n+1}$ as $n\\rightarrow\\infty$, is"
      ],
      "text/plain": [
       "<IPython.core.display.Latex object>"
      ]
     },
     "metadata": {},
     "output_type": "display_data"
    },
    {
     "data": {
      "image/png": "[encoded data removed]",
      "text/latex": [
       "$\\displaystyle e$"
      ],
      "text/plain": [
       "ℯ"
      ]
     },
     "metadata": {},
     "output_type": "display_data"
    },
    {
     "data": {
      "text/latex": [
       "which is greater than 1. So by ratio test, the given series is convergent."
      ],
      "text/plain": [
       "<IPython.core.display.Latex object>"
      ]
     },
     "metadata": {},
     "output_type": "display_data"
    }
   ],
   "source": [
    "display(Latex('Ex. Use ratio test to test the series $\\displaystyle\\sum \\\\frac{n!}{n^n}$'))\n",
    "display(Latex('Sol. Here limit of $a_n/a_{n+1}$ as $n\\\\rightarrow\\\\infty$, is'))\n",
    "n = sy.symbols('n')\n",
    "an= sy.factorial(n)/(n**n)\n",
    "an1=an.subs(n,n+1)\n",
    "display(sy.simplify(sy.limit(an/an1,n,np.inf)))\n",
    "if sy.limit(an/(an1),n,np.inf)<1: \n",
    "    display(Latex('which is less than 1. So by ratio test, the given series is divergent.')) \n",
    "elif sy.limit(an/(an1),n,np.inf)>1: \n",
    "    display(Latex('which is greater than 1. So by ratio test, the given series is convergent.'))\n",
    "else:\n",
    "    display(Latex('which is equal to 1. So ratio test fails')) "
   ]
  },
  {
   "cell_type": "code",
   "execution_count": 9,
   "metadata": {},
   "outputs": [
    {
     "data": {
      "text/latex": [
       "Ex. Use ratio test to test the series $\\displaystyle\\sum \\frac{1}{n\\ln n}$"
      ],
      "text/plain": [
       "<IPython.core.display.Latex object>"
      ]
     },
     "metadata": {},
     "output_type": "display_data"
    },
    {
     "data": {
      "text/latex": [
       "Sol. Here limit of $a_n/a_{n+1}$ as $n\\rightarrow\\infty$, is"
      ],
      "text/plain": [
       "<IPython.core.display.Latex object>"
      ]
     },
     "metadata": {},
     "output_type": "display_data"
    },
    {
     "data": {
      "image/png": "[encoded data removed]",
      "text/latex": [
       "$\\displaystyle 1$"
      ],
      "text/plain": [
       "1"
      ]
     },
     "metadata": {},
     "output_type": "display_data"
    },
    {
     "data": {
      "text/latex": [
       "which is equal to 1. So ratio test fails"
      ],
      "text/plain": [
       "<IPython.core.display.Latex object>"
      ]
     },
     "metadata": {},
     "output_type": "display_data"
    }
   ],
   "source": [
    "display(Latex('Ex. Use ratio test to test the series $\\displaystyle\\sum \\\\frac{1}{n\\ln n}$'))\n",
    "display(Latex('Sol. Here limit of $a_n/a_{n+1}$ as $n\\\\rightarrow\\\\infty$, is'))\n",
    "n = sy.symbols('n')\n",
    "an= 1/(n*sy.log(n))\n",
    "an1=an.subs(n,n+1)\n",
    "display(sy.simplify(sy.limit(an/an1,n,np.inf)))\n",
    "if sy.limit(an/(an1),n,np.inf)<1: \n",
    "    display(Latex('which is less than 1. So by ratio test, the given series is divergent')) \n",
    "elif sy.limit(an/(an1),n,np.inf)>1: \n",
    "    display(Latex('which is greater than 1. So by ratio test, the given series is convergent'))\n",
    "else:\n",
    "    display(Latex('which is equal to 1. So ratio test fails')) "
   ]
  },
  {
   "cell_type": "code",
   "execution_count": 10,
   "metadata": {},
   "outputs": [
    {
     "data": {
      "text/latex": [
       "Ex. Use root test to test the series $\\displaystyle\\sum \\frac{n!}{n^n}$."
      ],
      "text/plain": [
       "<IPython.core.display.Latex object>"
      ]
     },
     "metadata": {},
     "output_type": "display_data"
    },
    {
     "data": {
      "text/latex": [
       "Sol. Here limit of $a_n^{1/n}$ as $n\\rightarrow\\infty$, is"
      ],
      "text/plain": [
       "<IPython.core.display.Latex object>"
      ]
     },
     "metadata": {},
     "output_type": "display_data"
    },
    {
     "data": {
      "image/png": "[encoded data removed]",
      "text/latex": [
       "$\\displaystyle e^{-1}$"
      ],
      "text/plain": [
       " -1\n",
       "ℯ  "
      ]
     },
     "metadata": {},
     "output_type": "display_data"
    },
    {
     "data": {
      "text/latex": [
       "which is less than 1. So by root test, the given series is convergent."
      ],
      "text/plain": [
       "<IPython.core.display.Latex object>"
      ]
     },
     "metadata": {},
     "output_type": "display_data"
    }
   ],
   "source": [
    "display(Latex('Ex. Use root test to test the series $\\displaystyle\\sum \\\\frac{n!}{n^n}$.'))\n",
    "display(Latex('Sol. Here limit of $a_n^{1/n}$ as $n\\\\rightarrow\\\\infty$, is'))\n",
    "n = sy.symbols('n')\n",
    "an= sy.factorial(n)/(n**n)\n",
    "display(sy.simplify(sy.limit(an**(1/n),n,np.inf)))\n",
    "if sy.limit(an**(1/n),n,np.inf)<1: \n",
    "    display(Latex('which is less than 1. So by root test, the given series is convergent.')) \n",
    "elif sy.limit(an**(1/n),n,np.inf)>1: \n",
    "    display(Latex('which is greater than 1. So by root test, the given series is divergent.'))\n",
    "else:\n",
    "    display(Latex('which is equal to 1. So root test fails')) "
   ]
  },
  {
   "cell_type": "code",
   "execution_count": 11,
   "metadata": {},
   "outputs": [
    {
     "data": {
      "text/latex": [
       "Ex. Use Leibniz test to test the series $\\displaystyle\\sum \\frac{(-1)^{n-1}}{n}$."
      ],
      "text/plain": [
       "<IPython.core.display.Latex object>"
      ]
     },
     "metadata": {},
     "output_type": "display_data"
    },
    {
     "data": {
      "text/latex": [
       "Sol. Here limit of $a_n$ as $n\\rightarrow\\infty$, is"
      ],
      "text/plain": [
       "<IPython.core.display.Latex object>"
      ]
     },
     "metadata": {},
     "output_type": "display_data"
    },
    {
     "data": {
      "image/png": "[encoded data removed]",
      "text/latex": [
       "$\\displaystyle 0$"
      ],
      "text/plain": [
       "0"
      ]
     },
     "metadata": {},
     "output_type": "display_data"
    },
    {
     "data": {
      "text/latex": [
       "Also, $a_n$ is decreasing over the interval $(1,\\infty)$."
      ],
      "text/plain": [
       "<IPython.core.display.Latex object>"
      ]
     },
     "metadata": {},
     "output_type": "display_data"
    },
    {
     "data": {
      "text/latex": [
       "So by Leibniz test, the given series is convergent."
      ],
      "text/plain": [
       "<IPython.core.display.Latex object>"
      ]
     },
     "metadata": {},
     "output_type": "display_data"
    }
   ],
   "source": [
    "display(Latex('Ex. Use Leibniz test to test the series $\\displaystyle\\sum \\\\frac{(-1)^{n-1}}{n}$.'))\n",
    "display(Latex('Sol. Here limit of $a_n$ as $n\\\\rightarrow\\\\infty$, is'))\n",
    "n = sy.symbols('n')\n",
    "an= 1/n\n",
    "display(sy.simplify(sy.limit(an,n,np.inf)))\n",
    "if sy.limit(an,n,np.inf)==0: \n",
    "    if sy.is_decreasing(an, sy.Interval(1, sy.oo)):\n",
    "        display(Latex('Also, $a_n$ is decreasing over the interval $(1,\\infty)$.'))\n",
    "        display(Latex('So by Leibniz test, the given series is convergent.'))\n",
    "    else:\n",
    "        display(Latex('$a_n$ is not decreasing over the interval $(1,\\infty)$. So Leibniz test is inclusive.'))\n",
    "else: \n",
    "    display(Latex('It is nonzero. So the given series is not convergent.')) \n",
    "    "
   ]
  },
  {
   "cell_type": "code",
   "execution_count": 12,
   "metadata": {},
   "outputs": [
    {
     "data": {
      "text/latex": [
       "Ex. Use Leibniz test to test the series $\\displaystyle\\sum (-1)^{n-1}\\sin(1/n)$."
      ],
      "text/plain": [
       "<IPython.core.display.Latex object>"
      ]
     },
     "metadata": {},
     "output_type": "display_data"
    },
    {
     "data": {
      "text/latex": [
       "Sol. Here limit of $a_n$ as $n\\rightarrow\\infty$, is"
      ],
      "text/plain": [
       "<IPython.core.display.Latex object>"
      ]
     },
     "metadata": {},
     "output_type": "display_data"
    },
    {
     "data": {
      "image/png": "[encoded data removed]",
      "text/latex": [
       "$\\displaystyle 0$"
      ],
      "text/plain": [
       "0"
      ]
     },
     "metadata": {},
     "output_type": "display_data"
    },
    {
     "data": {
      "text/latex": [
       "$a_n$ is not decreasing over the interval $(1,\\infty)$. So Leibniz test is inclusive."
      ],
      "text/plain": [
       "<IPython.core.display.Latex object>"
      ]
     },
     "metadata": {},
     "output_type": "display_data"
    }
   ],
   "source": [
    "display(Latex('Ex. Use Leibniz test to test the series $\\displaystyle\\sum (-1)^{n-1}\\sin(1/n)$.'))\n",
    "display(Latex('Sol. Here limit of $a_n$ as $n\\\\rightarrow\\\\infty$, is'))\n",
    "n = sy.symbols('n')\n",
    "an= sy.sin(1/n)\n",
    "display(sy.simplify(sy.limit(an,n,np.inf)))\n",
    "if sy.limit(an,n,np.inf)==0: \n",
    "    if sy.is_decreasing(an, sy.Interval(1, sy.oo)):\n",
    "        display(Latex('Also, $a_n$ is decreasing over the interval $(1,\\infty)$.'))\n",
    "        display(Latex('So by Leibniz test, the given series is convergent.'))\n",
    "    else:\n",
    "        display(Latex('$a_n$ is not decreasing over the interval $(1,\\infty)$. So Leibniz test is inclusive.'))\n",
    "else: \n",
    "    display(Latex('It is nonzero. So the given series is not convergent.')) \n"
   ]
  },
  {
   "cell_type": "code",
   "execution_count": null,
   "metadata": {},
   "outputs": [],
   "source": []
  }
 ],
 "metadata": {
  "kernelspec": {
   "display_name": "Python 3",
   "language": "python",
   "name": "python3"
  },
  "language_info": {
   "codemirror_mode": {
    "name": "ipython",
    "version": 3
   },
   "file_extension": ".py",
   "mimetype": "text/x-python",
   "name": "python",
   "nbconvert_exporter": "python",
   "pygments_lexer": "ipython3",
   "version": "3.8.10"
  }
 },
 "nbformat": 4,
 "nbformat_minor": 4
}
